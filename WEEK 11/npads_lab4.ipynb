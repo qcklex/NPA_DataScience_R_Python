{
 "cells": [
  {
   "cell_type": "markdown",
   "id": "documentary-married",
   "metadata": {},
   "source": [
    "# NPA Data Science - Introduction to Python Programming\n",
    "### Notebook 4: by michael.ferrie@edinburghcollege.ac.uk\n",
    "### Edinburgh College, May 2021"
   ]
  },
  {
   "cell_type": "markdown",
   "id": "2f6a03df-104a-4e86-ab46-c2416eb92488",
   "metadata": {},
   "source": [
    "<div class=\"alert alert-block alert-info\"><b>Info:</b>\n",
    "Fill out the code cells in Parts 1 and 2, then move onto the questions in Part 3\n",
    "</div>"
   ]
  },
  {
   "cell_type": "markdown",
   "id": "least-correction",
   "metadata": {},
   "source": [
    "## Part 1 - While Loops\n",
    "* With the while loop we can execute a set of statements as long as a condition is true.\n",
    "* Create a variable and print out the value\n",
    "* Increment until the value is no longer less than 6"
   ]
  },
  {
   "cell_type": "code",
   "execution_count": 1,
   "id": "246d2851-82dc-44e8-a0a7-32e6811f1821",
   "metadata": {},
   "outputs": [
    {
     "name": "stdout",
     "output_type": "stream",
     "text": [
      "1\n",
      "2\n",
      "3\n",
      "4\n",
      "5\n"
     ]
    }
   ],
   "source": [
    "my_variable = 1\n",
    "while my_variable < 6:\n",
    "  print(my_variable)\n",
    "  my_variable += 1"
   ]
  },
  {
   "cell_type": "markdown",
   "id": "b502012c-21fa-4763-a9ba-c13c0b8fbd27",
   "metadata": {},
   "source": [
    "* The while loop requires relevant variables to be ready, in this example we need to define an indexing variable, my_variable, which we set to 1.\n",
    "* The break Statement, With the break statement we can stop the loop even if the while condition is true:\n",
    "* Example: exit the loop when my_variable is 5:"
   ]
  },
  {
   "cell_type": "code",
   "execution_count": 2,
   "id": "66624a4b-d8ec-403e-bb05-65b2d8c68ef6",
   "metadata": {
    "tags": []
   },
   "outputs": [
    {
     "name": "stdout",
     "output_type": "stream",
     "text": [
      "1\n",
      "2\n",
      "3\n",
      "4\n",
      "5\n",
      "6\n"
     ]
    }
   ],
   "source": [
    "my_variable = 1\n",
    "while my_variable < 10:\n",
    "  print(my_variable)\n",
    "  if my_variable == 6:\n",
    "    break\n",
    "  my_variable += 1"
   ]
  },
  {
   "cell_type": "markdown",
   "id": "6205babb-880f-407b-894a-aec157306b66",
   "metadata": {
    "tags": []
   },
   "source": [
    "## Part 2 - Lists\n",
    "* Python lists are used to store collections of data, they are used to store multiple items in a single variable, lists are created with square brackets.\n",
    "* List items are indexed, the first item has index [0], the second item has index [1] etc.\n",
    "* Lists are ordered, this means that the items have a defined order, and that order will not change (in most cases). If you add new items to a list, the new items will be placed at the end of the list.\n",
    "* Lists are changeable, meaning that we can change, add, and remove items in a list after it has been created."
   ]
  },
  {
   "cell_type": "code",
   "execution_count": 3,
   "id": "b42afd8a-fba0-4e06-9d9e-fc6da087ad91",
   "metadata": {},
   "outputs": [
    {
     "name": "stdout",
     "output_type": "stream",
     "text": [
      "['cat', 'dog', 'horse']\n"
     ]
    }
   ],
   "source": [
    "# This example creates and prints a list:\n",
    "my_list = [\"cat\", \"dog\", \"horse\"]\n",
    "print(my_list)"
   ]
  },
  {
   "cell_type": "code",
   "execution_count": 4,
   "id": "332c886c-fa3b-415e-bb74-b7ea6251bf48",
   "metadata": {},
   "outputs": [
    {
     "name": "stdout",
     "output_type": "stream",
     "text": [
      "cat\n",
      "horse\n"
     ]
    }
   ],
   "source": [
    "# access different items in the list by index - just add the index number in square brackets\n",
    "print(my_list[0])\n",
    "print(my_list[2])"
   ]
  },
  {
   "cell_type": "code",
   "execution_count": 5,
   "id": "ecba5b9e-eeba-4a73-b06d-7c217cab1bd2",
   "metadata": {},
   "outputs": [
    {
     "name": "stdout",
     "output_type": "stream",
     "text": [
      "cat\n",
      "dog\n",
      "horse\n"
     ]
    }
   ],
   "source": [
    "# loop over a list and print out each item\n",
    "for item in my_list:\n",
    "    print(item)"
   ]
  },
  {
   "cell_type": "markdown",
   "id": "04887687-9b0b-4cd4-941d-26dfc23ba9d1",
   "metadata": {
    "tags": []
   },
   "source": [
    "## Part 3 - Questions\n",
    "Add your answer to each of the questions to check your understanding, each question is numbered then a code cell to put your answer is provided below."
   ]
  },
  {
   "cell_type": "markdown",
   "id": "84a3470f-c886-4ef9-8ffe-ba68a3d4d94e",
   "metadata": {},
   "source": [
    "3.1 Create a while loop that will take a variable called my_counting_number, increment it by 1 until it reaches 20?"
   ]
  },
  {
   "cell_type": "code",
   "execution_count": 6,
   "id": "51ce8a65-86b3-4aad-b0e1-503ac64353f1",
   "metadata": {},
   "outputs": [],
   "source": [
    "my_counting_number = 0\n",
    "# your code here\n"
   ]
  },
  {
   "cell_type": "markdown",
   "id": "d9d9a9dc-6f0d-4bfa-955b-b41995004fdf",
   "metadata": {},
   "source": [
    "3.2 Create a while loop that will take a variable called my__second_counting_number and increment it by 2 until it reaches 50 "
   ]
  },
  {
   "cell_type": "code",
   "execution_count": 7,
   "id": "99d868e5-6901-45dd-b9d3-e67545ffe384",
   "metadata": {},
   "outputs": [],
   "source": [
    "my_second_counting_number = 0\n",
    "# your code here\n"
   ]
  },
  {
   "cell_type": "markdown",
   "id": "80f290c3-e423-44c1-8602-cd1a042ef6ab",
   "metadata": {
    "tags": []
   },
   "source": [
    "3.3 Reuse the code from the previous question, this time use the break keyword to stop the loop when the value of the variable reaches 40 "
   ]
  },
  {
   "cell_type": "code",
   "execution_count": 8,
   "id": "37b87a7a-1cc6-4866-b8e5-18eeda27f041",
   "metadata": {
    "tags": []
   },
   "outputs": [],
   "source": [
    "my_third_counting_number = 0\n",
    "# your code here\n"
   ]
  },
  {
   "cell_type": "markdown",
   "id": "8076643a-896f-4400-8277-c83499f4382c",
   "metadata": {},
   "source": [
    "3.4 Reuse the code from the previous question but this time, use a conditional statement keyword to stop the loop when the value of the variable reaches 40"
   ]
  },
  {
   "cell_type": "code",
   "execution_count": 9,
   "id": "5d6899c4-247c-4558-a505-85ef7a30fba0",
   "metadata": {
    "tags": []
   },
   "outputs": [],
   "source": [
    "my_fourth_counting_number = 0\n",
    "# your code here\n"
   ]
  },
  {
   "cell_type": "markdown",
   "id": "efc1c232-57e7-400f-aba6-d2499db7b374",
   "metadata": {},
   "source": [
    "3.5 Create a shopping list and put 5 items into the list, things you might find at a local shop."
   ]
  },
  {
   "cell_type": "code",
   "execution_count": 10,
   "id": "5a3a5b49-b9f0-44a4-90cf-f4913a85a302",
   "metadata": {
    "tags": []
   },
   "outputs": [],
   "source": [
    "shopping_list = []\n",
    "# your code here\n"
   ]
  },
  {
   "cell_type": "markdown",
   "id": "60fb7b17-c51f-4b14-a1dd-f7764e2fa5e4",
   "metadata": {},
   "source": [
    "3.6 Use a ```for``` loop to print out each item in the list one at a time"
   ]
  },
  {
   "cell_type": "code",
   "execution_count": 11,
   "id": "e1016a00-1445-46d5-8ca8-f9b9d01f9fd9",
   "metadata": {
    "tags": []
   },
   "outputs": [],
   "source": [
    "# your code here\n"
   ]
  },
  {
   "cell_type": "markdown",
   "id": "0a1fb6e9-e5fa-47d2-b999-5b2ddb46d03f",
   "metadata": {},
   "source": [
    "3.7 Use the index to print only the first and last elements in the list"
   ]
  },
  {
   "cell_type": "code",
   "execution_count": 12,
   "id": "8810cb64-6c77-41b2-80dd-6786032e566d",
   "metadata": {
    "tags": []
   },
   "outputs": [],
   "source": [
    "# your code here\n"
   ]
  },
  {
   "cell_type": "markdown",
   "id": "32554abd-eb2f-4d1b-abb5-2b8b601a519a",
   "metadata": {},
   "source": [
    "3.8 Use the ```append``` method to add a 6th item to the list"
   ]
  },
  {
   "cell_type": "code",
   "execution_count": 13,
   "id": "8f0cf3eb-20f8-4930-8c77-0557a211d50a",
   "metadata": {
    "tags": []
   },
   "outputs": [],
   "source": [
    "# your code here\n"
   ]
  },
  {
   "cell_type": "markdown",
   "id": "dda19fdf-44db-4199-be1d-0e1e4b6d9916",
   "metadata": {},
   "source": [
    "3.9 Use the ```len()``` fucntion to count the number of values in the list"
   ]
  },
  {
   "cell_type": "code",
   "execution_count": 14,
   "id": "7c3709df-9071-4b3d-9f46-74623dbef4e3",
   "metadata": {
    "tags": []
   },
   "outputs": [],
   "source": [
    "# your code here\n"
   ]
  },
  {
   "cell_type": "markdown",
   "id": "eb7b39ed-6388-4ff5-94b8-af07018d4a72",
   "metadata": {
    "tags": []
   },
   "source": [
    "<div class=\"alert alert-block alert-success\">\n",
    "    <b>Challenge Questions - ones that deserved this green box!!!</b><br>\n",
    "    3.10 Use the fruit list, and try to print only fruits that contain the letter a, print these out using a for loop to iterate over the list? <br>\n",
    "    3.11 Come up with a technique of moving the last 4 items in the list into the fruits_2 list, then print the items in both lists to show it has worked?\n",
    "</div>"
   ]
  },
  {
   "cell_type": "code",
   "execution_count": 15,
   "id": "14d39411-f279-471e-9ff3-fdcc705a3e24",
   "metadata": {
    "tags": []
   },
   "outputs": [],
   "source": [
    "# your code here for 3.10\n",
    "fruits = ['orange', 'apple', 'pear', 'banana', 'kiwi', 'apple', 'banana']"
   ]
  },
  {
   "cell_type": "code",
   "execution_count": 16,
   "id": "32fa74d2-5048-469d-808f-dd24de998615",
   "metadata": {
    "tags": []
   },
   "outputs": [],
   "source": [
    "# your code here for 3.11\n",
    "fruits = ['orange', 'apple', 'pear', 'banana', 'kiwi', 'apple', 'banana']\n",
    "fruits_2 = []"
   ]
  }
 ],
 "metadata": {
  "kernelspec": {
   "display_name": "Python 3",
   "language": "python",
   "name": "python3"
  },
  "language_info": {
   "codemirror_mode": {
    "name": "ipython",
    "version": 3
   },
   "file_extension": ".py",
   "mimetype": "text/x-python",
   "name": "python",
   "nbconvert_exporter": "python",
   "pygments_lexer": "ipython3",
   "version": "3.9.2"
  }
 },
 "nbformat": 4,
 "nbformat_minor": 5
}
