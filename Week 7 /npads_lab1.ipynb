{
 "cells": [
  {
   "cell_type": "markdown",
   "id": "atlantic-compatibility",
   "metadata": {},
   "source": [
    "# NPA Data Science - Introduction to Python Programming\n",
    "### Notebook 1: by michael.ferrie@edinburghcollege.ac.uk - Edinburgh College, Oct 2021"
   ]
  },
  {
   "cell_type": "markdown",
   "id": "animated-progressive",
   "metadata": {},
   "source": [
    "# Part 1 - Python Files and Printing\n",
    "\n",
    "* Python code is usually stored in text files with the file ending \"`.py`\":\n",
    "```\n",
    "my_python_program.py\n",
    "```\n",
    "\n",
    "* Every line in a Python program file is assumed to be a Python statement, or part thereof. \n",
    "\n",
    "    * The only exception is comment lines, which start with the character `#`\n",
    "\n",
    "* To run our Python program from the command line we use:\n",
    "`my_python_program.py`\n",
    "\n",
    "This file is an IPython notebook - and does not follow the standard pattern with Python code in a text file. Instead, an IPython notebook is stored as a file in the [JSON](http://en.wikipedia.org/wiki/JSON) format. The advantage is that we can mix formatted text, Python code and code output. It requires the IPython notebook server (Jupyterlab) to run it though, and therefore isn't a stand-alone Python program as described above. Other than that, there is no difference between the Python code that goes into a program file or an IPython notebook.\n",
    "\n",
    "* The first thing we are going to learn in python is the use of the print function, we can use this to send output to the screen:\n",
    "```\n",
    "print (\"hello world\")\n",
    "```"
   ]
  },
  {
   "cell_type": "markdown",
   "id": "844c1945-399a-4b39-96c4-525dddaf352d",
   "metadata": {},
   "source": [
    "<div class=\"alert alert-block alert-info\"> <b>Note:</b> Read the information and run each code cell with `CTRL + ENTER` in order to see the output, then complete the questions at the end each section</div>"
   ]
  },
  {
   "cell_type": "markdown",
   "id": "engaged-exemption",
   "metadata": {},
   "source": [
    "### Basic printing tasks"
   ]
  },
  {
   "cell_type": "markdown",
   "id": "f3a27e9e-4f77-44b6-a0af-3ef2414dae79",
   "metadata": {},
   "source": [
    "1.1 Create a print statement that will print out your name in this cell, double click on this cell to to edit. Then once you are done, press CTRL+RETURN to run, the output should appear below"
   ]
  },
  {
   "cell_type": "code",
   "execution_count": 2,
   "id": "428a25fe-1cfb-418a-b49d-efc86d04b863",
   "metadata": {},
   "outputs": [
    {
     "name": "stdout",
     "output_type": "stream",
     "text": [
      "Alice\n",
      "Hello World!\n"
     ]
    }
   ],
   "source": [
    "# Your print statement below this line\n",
    "print(\"Alice\")\n",
    "print(\"Hello World!\")"
   ]
  },
  {
   "cell_type": "markdown",
   "id": "844dcacc-dcf0-451a-a143-b01d05c0c493",
   "metadata": {},
   "source": [
    "1.2 Using asterisks `***` Edit the next code cell to print out the first letter of your name, make it five or 6 lines high"
   ]
  },
  {
   "cell_type": "code",
   "execution_count": 4,
   "id": "e4b55af9-46f6-4bd7-8ce4-eca4dd74ee23",
   "metadata": {},
   "outputs": [
    {
     "name": "stdout",
     "output_type": "stream",
     "text": [
      "***\n",
      " * \n",
      " * \n",
      " * \n",
      " * \n",
      "***\n",
      "     *\n",
      "    * *\n",
      "   *   *\n",
      "  *******\n",
      " *       * \n",
      "*         *\n"
     ]
    }
   ],
   "source": [
    "# here is an example of the letter I, if your name is Iain it's your lucky day:\n",
    "print (\"***\")\n",
    "print (\" * \")\n",
    "print (\" * \")\n",
    "print (\" * \")\n",
    "print (\" * \")\n",
    "print (\"***\")\n",
    "# your code below this line\n",
    "print (\"     *\")\n",
    "print (\"    * *\")\n",
    "print (\"   *   *\")\n",
    "print (\"  *******\")\n",
    "print (\" *       * \")\n",
    "print (\"*         *\")"
   ]
  },
  {
   "cell_type": "markdown",
   "id": "partial-namibia",
   "metadata": {
    "tags": []
   },
   "source": [
    "# Variables and User Input\n",
    "* The assignment operator in Python is `=`. Python is a dynamically typed language, we do not need to specify the type of a variable when we create one. Assigning a value to a new variable creates the variable\n",
    "* A variable is like a storage box in the computers memory, we can create these and store items inside them using the = sign. Variable names in Python can contain alphanumerical characters `a-z`, `A-Z`, `0-9` and some special characters such as `_`. Normal variable names must start with a letter. By convention, variable names start with a lower-case letter\n",
    "* We can get input from users with the input function, to call a function you just type its name followed by parentheses ()\n",
    "* Sometimes we want to send something to a function, this is called an argument and we can do this by putting that inside the parentheses (STUFF-IN-HERE)"
   ]
  },
  {
   "cell_type": "markdown",
   "id": "biological-pleasure",
   "metadata": {},
   "source": [
    "### Questions"
   ]
  },
  {
   "cell_type": "markdown",
   "id": "c8eade81-8723-4e95-8859-ae2a4da22e54",
   "metadata": {},
   "source": [
    "1.3 We can take user input using the input key word, edit the program below to say, 'Good Morning' to the person who inputs their name"
   ]
  },
  {
   "cell_type": "code",
   "execution_count": null,
   "id": "da40cae2-c5ad-43d0-b40a-5122eddaba97",
   "metadata": {},
   "outputs": [],
   "source": [
    "user_name = input('Enter your name: ')\n",
    "print('Hello', user_name, '!')\n",
    "# your code below this line\n",
    "print('Good Morning', user_name, '!')\n"
   ]
  },
  {
   "cell_type": "markdown",
   "id": "1f865113-df62-4893-8b21-ecab93a18d1c",
   "metadata": {},
   "source": [
    "1.4 Modify the program from 1.3 - make it ask for the users name and then say back, `I know you like python` and then then the users name. The program should print. `I know you like python NAME`"
   ]
  },
  {
   "cell_type": "code",
   "execution_count": 7,
   "id": "9a2ed902-088e-4ceb-84b3-b3198e5b9b46",
   "metadata": {},
   "outputs": [
    {
     "name": "stdin",
     "output_type": "stream",
     "text": [
      "What is your name?:  Michael\n"
     ]
    },
    {
     "name": "stdout",
     "output_type": "stream",
     "text": [
      "I know you like python ;)... Michael\n"
     ]
    }
   ],
   "source": [
    "# your code below this line\n",
    "user_name = input('What is your name?: ')\n",
    "print('I know you like python ;)...', user_name) \n"
   ]
  },
  {
   "cell_type": "markdown",
   "id": "b58953e3-bad5-497d-b51a-6f72b982648c",
   "metadata": {},
   "source": [
    "1.5 We can use Python as a simple calculator, write a program that prints out the value of number 3"
   ]
  },
  {
   "cell_type": "code",
   "execution_count": 11,
   "id": "34b76ad9-67bd-4c68-a430-b0d34c71540c",
   "metadata": {},
   "outputs": [
    {
     "name": "stdout",
     "output_type": "stream",
     "text": [
      "The result is: 3\n"
     ]
    }
   ],
   "source": [
    "number1 = 1\n",
    "number2 = 2\n",
    "number3 = number1 + number2\n",
    "# your code below this line\n",
    "print('The result is:', number3)"
   ]
  },
  {
   "cell_type": "markdown",
   "id": "8d1bca72-73b9-4c82-be87-0968bef84753",
   "metadata": {},
   "source": [
    "1.6 Combine the code in the previous questions create a program that asks the, user to enter 2 numbers, the program should then add the numbers together and prints out the result?"
   ]
  },
  {
   "cell_type": "code",
   "execution_count": 21,
   "id": "d20f44e0-2f58-4958-bf17-9e1d5721c58f",
   "metadata": {},
   "outputs": [
    {
     "name": "stdin",
     "output_type": "stream",
     "text": [
      "I will do maths magic! Give me one number!:  4\n"
     ]
    },
    {
     "name": "stdout",
     "output_type": "stream",
     "text": [
      "4 wow! that is a good number!\n"
     ]
    },
    {
     "name": "stdin",
     "output_type": "stream",
     "text": [
      "Give me another number!:  5\n"
     ]
    },
    {
     "name": "stdout",
     "output_type": "stream",
     "text": [
      "Here is the magic gift for you!  45\n",
      "MAGIC!\n"
     ]
    }
   ],
   "source": [
    "# your code below this line\n",
    "number1 = input('I will do magic! Give me one number!: ')\n",
    "print(number1, 'wow! that is a good number!')\n",
    "number2 = input('Give me another number!: ')\n",
    "result = number1 + number2\n",
    "print('Here is the magical gift for you! ', result)\n",
    "print('MAGIC!')\n",
    "\n"
   ]
  },
  {
   "cell_type": "markdown",
   "id": "pleased-christian",
   "metadata": {},
   "source": [
    "# Part 2 - Data Types and Operators"
   ]
  },
  {
   "cell_type": "markdown",
   "id": "welcome-norman",
   "metadata": {},
   "source": [
    "* Although not explicitly specified, a variable does have a type associated with it. The type is derived from the value that was assigned to it.\n",
    "* Here are some of the main data types. * **NOTE:** In a normal python file, you would have to give `print(type(x))`. You can skip the print command in a notebook **IF** it's the last statement in that cell"
   ]
  },
  {
   "cell_type": "code",
   "execution_count": 1,
   "id": "undefined-cartridge",
   "metadata": {
    "collapsed": false,
    "jupyter": {
     "outputs_hidden": false
    }
   },
   "outputs": [
    {
     "data": {
      "text/plain": [
       "float"
      ]
     },
     "execution_count": 1,
     "metadata": {},
     "output_type": "execute_result"
    }
   ],
   "source": [
    "# integers\n",
    "x = 1.0\n",
    "type(x)"
   ]
  },
  {
   "cell_type": "code",
   "execution_count": 2,
   "id": "persistent-porcelain",
   "metadata": {
    "collapsed": false,
    "jupyter": {
     "outputs_hidden": false
    }
   },
   "outputs": [
    {
     "data": {
      "text/plain": [
       "float"
      ]
     },
     "execution_count": 2,
     "metadata": {},
     "output_type": "execute_result"
    }
   ],
   "source": [
    "# float\n",
    "y = 1.0\n",
    "type(y)"
   ]
  },
  {
   "cell_type": "code",
   "execution_count": null,
   "id": "thick-tablet",
   "metadata": {
    "collapsed": false,
    "jupyter": {
     "outputs_hidden": false
    }
   },
   "outputs": [],
   "source": [
    "# boolean\n",
    "b1 = True\n",
    "b2 = False\n",
    "type(b1)"
   ]
  },
  {
   "cell_type": "markdown",
   "id": "senior-illustration",
   "metadata": {},
   "source": [
    "If we assign a new value to a variable, its type can change. If we try to use a variable that has not yet been defined we get an `NameError`:"
   ]
  },
  {
   "cell_type": "code",
   "execution_count": null,
   "id": "responsible-algeria",
   "metadata": {
    "collapsed": false,
    "jupyter": {
     "outputs_hidden": false
    }
   },
   "outputs": [],
   "source": [
    "x = 1"
   ]
  },
  {
   "cell_type": "code",
   "execution_count": null,
   "id": "bulgarian-cruise",
   "metadata": {
    "collapsed": false,
    "jupyter": {
     "outputs_hidden": false
    }
   },
   "outputs": [],
   "source": [
    "type(x)"
   ]
  },
  {
   "cell_type": "code",
   "execution_count": null,
   "id": "understanding-money",
   "metadata": {
    "collapsed": false,
    "jupyter": {
     "outputs_hidden": false
    }
   },
   "outputs": [],
   "source": [
    "print(z)"
   ]
  },
  {
   "cell_type": "markdown",
   "id": "brutal-toilet",
   "metadata": {},
   "source": [
    "### Type utility functions"
   ]
  },
  {
   "cell_type": "code",
   "execution_count": null,
   "id": "competitive-transsexual",
   "metadata": {
    "collapsed": false,
    "jupyter": {
     "outputs_hidden": false
    }
   },
   "outputs": [],
   "source": [
    "x = 1.0\n",
    "# check if the variable x is a float\n",
    "type(x) is float"
   ]
  },
  {
   "cell_type": "code",
   "execution_count": null,
   "id": "gross-episode",
   "metadata": {
    "collapsed": false,
    "jupyter": {
     "outputs_hidden": false
    }
   },
   "outputs": [],
   "source": [
    "# check if the variable x is an int\n",
    "type(x) is int"
   ]
  },
  {
   "cell_type": "markdown",
   "id": "technical-liberal",
   "metadata": {},
   "source": [
    "## Operators and comparisons"
   ]
  },
  {
   "cell_type": "markdown",
   "id": "registered-lighter",
   "metadata": {},
   "source": [
    "Most operators and comparisons in Python work as one would expect:\n",
    "\n",
    "* Arithmetic operators `+`, `-`, `*`, `/`, `//` (integer division), '**' power\n"
   ]
  },
  {
   "cell_type": "code",
   "execution_count": 2,
   "id": "level-ideal",
   "metadata": {
    "collapsed": false,
    "jupyter": {
     "outputs_hidden": false
    }
   },
   "outputs": [
    {
     "data": {
      "text/plain": [
       "(3, -1, 2, 0.5)"
      ]
     },
     "execution_count": 2,
     "metadata": {},
     "output_type": "execute_result"
    }
   ],
   "source": [
    "1 + 2, 1 - 2, 1 * 2, 1 / 2"
   ]
  },
  {
   "cell_type": "code",
   "execution_count": 3,
   "id": "announced-nirvana",
   "metadata": {
    "collapsed": false,
    "jupyter": {
     "outputs_hidden": false
    }
   },
   "outputs": [
    {
     "data": {
      "text/plain": [
       "(3.0, -1.0, 2.0, 0.5)"
      ]
     },
     "execution_count": 3,
     "metadata": {},
     "output_type": "execute_result"
    }
   ],
   "source": [
    "1.0 + 2.0, 1.0 - 2.0, 1.0 * 2.0, 1.0 / 2.0"
   ]
  },
  {
   "cell_type": "code",
   "execution_count": 4,
   "id": "bronze-blanket",
   "metadata": {
    "collapsed": false,
    "jupyter": {
     "outputs_hidden": false
    }
   },
   "outputs": [
    {
     "data": {
      "text/plain": [
       "1.0"
      ]
     },
     "execution_count": 4,
     "metadata": {},
     "output_type": "execute_result"
    }
   ],
   "source": [
    "# Integer division of float numbers\n",
    "3.0 // 2.0"
   ]
  },
  {
   "cell_type": "code",
   "execution_count": 6,
   "id": "composite-robin",
   "metadata": {
    "collapsed": false,
    "jupyter": {
     "outputs_hidden": false
    }
   },
   "outputs": [
    {
     "data": {
      "text/plain": [
       "4"
      ]
     },
     "execution_count": 6,
     "metadata": {},
     "output_type": "execute_result"
    }
   ],
   "source": [
    "# Note! The power/exponent operator in python isn't ^, but is actually **\n",
    "2 ** 2"
   ]
  },
  {
   "cell_type": "markdown",
   "id": "foster-energy",
   "metadata": {},
   "source": [
    "Note: The `/` operator always performs a floating point division in Python 3.x.\n",
    "This is not true in Python 2.x, where the result of `/` is always an integer if the operands are integers.\n",
    "to be more specific, `1/2 = 0.5` (`float`) in Python 3.x, and `1/2 = 0` (`int`) in Python 2.x (but `1.0/2 = 0.5` in Python 2.x)."
   ]
  },
  {
   "cell_type": "markdown",
   "id": "endless-postage",
   "metadata": {},
   "source": [
    "* The boolean operators are spelled out as the words `and`, `not`, `or`. "
   ]
  },
  {
   "cell_type": "markdown",
   "id": "appreciated-cornell",
   "metadata": {},
   "source": [
    "* Comparison operators `>`, `<`, `>=` (greater or equal), `<=` (less or equal), `==` equality, `is` identical."
   ]
  },
  {
   "cell_type": "code",
   "execution_count": null,
   "id": "related-accuracy",
   "metadata": {
    "collapsed": false,
    "jupyter": {
     "outputs_hidden": false
    }
   },
   "outputs": [],
   "source": [
    "2 > 1"
   ]
  },
  {
   "cell_type": "code",
   "execution_count": null,
   "id": "worth-camera",
   "metadata": {
    "collapsed": false,
    "jupyter": {
     "outputs_hidden": false
    }
   },
   "outputs": [],
   "source": [
    "2 > 2"
   ]
  },
  {
   "cell_type": "markdown",
   "id": "5e311432-d2c9-40df-9cc9-a8749d334294",
   "metadata": {},
   "source": [
    "### Questions"
   ]
  },
  {
   "cell_type": "markdown",
   "id": "ee81eac0-0e9b-4c1f-a6b3-6103dd8b2c86",
   "metadata": {},
   "source": [
    "<div class=\"alert alert-block alert-success\">\n",
    "<b>Note:</b> Read each question then add your answer in the code cell below\n",
    "</div>"
   ]
  },
  {
   "cell_type": "markdown",
   "id": "8bbf2802-3bfd-405a-ac29-d8b00d7fa2b6",
   "metadata": {},
   "source": [
    "Q2.1 Can you add some comments to this python program so that it is more understandable, can you also change the variable name to mean something sensible, the program is meant to be for a user to enter their name?"
   ]
  },
  {
   "cell_type": "code",
   "execution_count": null,
   "id": "fc5505e1-40e1-4847-9383-1afb796b4311",
   "metadata": {},
   "outputs": [],
   "source": [
    "x123 = input('Enter123name: ')\n",
    "print('Hello............', x123, '!')\n",
    "print('Exiting x123 progggggram')"
   ]
  },
  {
   "cell_type": "markdown",
   "id": "a772673f-b80d-41d9-8db1-739be244a3cc",
   "metadata": {},
   "source": [
    "Q2.2 Make the following program more readable and add an in-line comment at the end of each line, and fix any syntax errors?"
   ]
  },
  {
   "cell_type": "code",
   "execution_count": null,
   "id": "94aa5843-04ce-409d-a517-93b0c3f55851",
   "metadata": {},
   "outputs": [],
   "source": [
    "number_entered = input('Enter a number and I will square it: ') \n",
    "number_squared = number_entered * numbre_enterd\n",
    "print('The number squared is, (number_squared, '!')"
   ]
  },
  {
   "cell_type": "markdown",
   "id": "fd4ce625-9032-4916-bdc3-6cc65bff6884",
   "metadata": {},
   "source": [
    "Q2.3 Fix the syntax in this program so that it runs, add a comment to explain what it is doing? The program should sum two numbers and have 3 variables?"
   ]
  },
  {
   "cell_type": "code",
   "execution_count": 23,
   "id": "78227975-3477-4b7e-ab5f-412406a53cde",
   "metadata": {},
   "outputs": [
    {
     "data": {
      "text/plain": [
       "3"
      ]
     },
     "execution_count": 23,
     "metadata": {},
     "output_type": "execute_result"
    }
   ],
   "source": [
    "1 + 2 \n",
    "# now it is summing 2 numbers and printing it without the need of the variables"
   ]
  },
  {
   "cell_type": "markdown",
   "id": "58ff0aa3-8c73-457b-890f-c1a65577513d",
   "metadata": {
    "collapsed": false,
    "jupyter": {
     "outputs_hidden": false
    }
   },
   "source": [
    "Q2.4 Create a program with sensible comments and variable names that takes a number and divides it by 2.54. The title of the program should be \"Centimetres to Inches Converter\"?"
   ]
  },
  {
   "cell_type": "code",
   "execution_count": 29,
   "id": "b94bb30f-50f8-4a19-94ec-5817eac2301a",
   "metadata": {},
   "outputs": [
    {
     "name": "stdout",
     "output_type": "stream",
     "text": [
      "0.39370078740157477\n"
     ]
    }
   ],
   "source": [
    "# add answer here \n",
    "#We'll need to know what's the formula to convert cm to inches\n",
    "\n",
    "#it is:  1 / 2.54\n",
    "\n",
    "cm = 1 \n",
    "\n",
    "# To do this in the future we can use a function.  \n",
    "# I create a variable that is going to use the variable cm pass it through the formula division, then it will give us the result. \n",
    "toInches = cm / 2.54\n",
    "\n",
    "#Here I print the result, if not it will not be displayed as we are storing the formula operation in a variable instead of just doing it. \n",
    "print(toInches)\n",
    "\n"
   ]
  },
  {
   "cell_type": "code",
   "execution_count": null,
   "id": "573532c8-6fe4-4ede-8416-db941aeed76d",
   "metadata": {},
   "outputs": [],
   "source": []
  },
  {
   "cell_type": "code",
   "execution_count": null,
   "id": "ad1f046c-ea15-4aa4-8e0e-4720389353fd",
   "metadata": {},
   "outputs": [],
   "source": []
  },
  {
   "cell_type": "code",
   "execution_count": null,
   "id": "47d4fb79-b4f4-4304-bbe3-bde2b7c58f9e",
   "metadata": {},
   "outputs": [],
   "source": []
  },
  {
   "cell_type": "code",
   "execution_count": null,
   "id": "3ac4f69a-0d40-437c-83e7-2ad3d52562a5",
   "metadata": {},
   "outputs": [],
   "source": []
  }
 ],
 "metadata": {
  "kernelspec": {
   "display_name": "Python 3 (ipykernel)",
   "language": "python",
   "name": "python3"
  },
  "language_info": {
   "codemirror_mode": {
    "name": "ipython",
    "version": 3
   },
   "file_extension": ".py",
   "mimetype": "text/x-python",
   "name": "python",
   "nbconvert_exporter": "python",
   "pygments_lexer": "ipython3",
   "version": "3.12.5"
  },
  "toc-autonumbering": true
 },
 "nbformat": 4,
 "nbformat_minor": 5
}
