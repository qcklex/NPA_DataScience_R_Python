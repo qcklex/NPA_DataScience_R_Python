{
 "cells": [
  {
   "cell_type": "markdown",
   "id": "electronic-homework",
   "metadata": {},
   "source": [
    "# NPA Data Science - Introduction to Python Programming\n",
    "### Notebook 2: by michael.ferrie@edinburghcollege.ac.uk - Edinburgh College, March 2021"
   ]
  },
  {
   "cell_type": "markdown",
   "id": "statutory-boxing",
   "metadata": {},
   "source": [
    "## Part 1 - Revision, some basic numeric operations\n",
    "\n",
    "* Run these cells with CTRL+RETURN to remind you of how python works with numbers and how to do some simple calculations\n",
    "* When we perform a calculation the values either side of the operator are called operands"
   ]
  },
  {
   "cell_type": "code",
   "execution_count": null,
   "id": "active-girlfriend",
   "metadata": {},
   "outputs": [],
   "source": [
    "# Addition, add two integers together\n",
    "1+1"
   ]
  },
  {
   "cell_type": "code",
   "execution_count": 1,
   "id": "previous-point",
   "metadata": {},
   "outputs": [
    {
     "data": {
      "text/plain": [
       "128.0"
      ]
     },
     "execution_count": 1,
     "metadata": {},
     "output_type": "execute_result"
    }
   ],
   "source": [
    "# if one of the operands is a float, the result is a float\n",
    "130-2.0"
   ]
  },
  {
   "cell_type": "code",
   "execution_count": 2,
   "id": "moderate-stretch",
   "metadata": {},
   "outputs": [
    {
     "data": {
      "text/plain": [
       "128"
      ]
     },
     "execution_count": 2,
     "metadata": {},
     "output_type": "execute_result"
    }
   ],
   "source": [
    "130-2"
   ]
  },
  {
   "cell_type": "code",
   "execution_count": 3,
   "id": "demonstrated-seller",
   "metadata": {},
   "outputs": [
    {
     "data": {
      "text/plain": [
       "65.0"
      ]
     },
     "execution_count": 3,
     "metadata": {},
     "output_type": "execute_result"
    }
   ],
   "source": [
    "# integer division\n",
    "130/2"
   ]
  },
  {
   "cell_type": "code",
   "execution_count": 4,
   "id": "opposed-charleston",
   "metadata": {},
   "outputs": [
    {
     "data": {
      "text/plain": [
       "6"
      ]
     },
     "execution_count": 4,
     "metadata": {},
     "output_type": "execute_result"
    }
   ],
   "source": [
    "# Multiplication\n",
    "2*3"
   ]
  },
  {
   "cell_type": "code",
   "execution_count": 4,
   "id": "smaller-modification",
   "metadata": {},
   "outputs": [
    {
     "data": {
      "text/plain": [
       "8"
      ]
     },
     "execution_count": 4,
     "metadata": {},
     "output_type": "execute_result"
    }
   ],
   "source": [
    "# Exponentiation ** this operator raises the number to its left to the power of the number to its right \n",
    "2**3"
   ]
  },
  {
   "cell_type": "code",
   "execution_count": null,
   "id": "blind-processing",
   "metadata": {},
   "outputs": [],
   "source": [
    "# Modulo Returns the remainder of the division of the number to the left by the number on its right. \n",
    "9%3"
   ]
  },
  {
   "cell_type": "markdown",
   "id": "opened-source",
   "metadata": {
    "tags": []
   },
   "source": [
    "## Part 2 - Conditional Statements\n",
    "Often, a program needs to skip over some statements, execute a series of statements repetitively, or choose between alternate sets of statements to execute. A control structure directs the order of execution of the statements in a program:\n",
    "* To do this we use a special word called ```if```\n",
    "* An if statement can be used to create a type of control structure called a conditional statement\n",
    "* The following examples illustrate how this works"
   ]
  },
  {
   "cell_type": "markdown",
   "id": "yellow-jones",
   "metadata": {},
   "source": [
    "Check if something is True, if it is, do it. If it is not True (False), don't do it<br>"
   ]
  },
  {
   "cell_type": "code",
   "execution_count": 5,
   "id": "rising-vintage",
   "metadata": {},
   "outputs": [
    {
     "name": "stdout",
     "output_type": "stream",
     "text": [
      "3\n"
     ]
    }
   ],
   "source": [
    "# Notice you have to indent after you start a if statement, python will do this automatically when you press return after a :\n",
    "num = 3\n",
    "if num == 3: \n",
    "    print(num)"
   ]
  },
  {
   "cell_type": "code",
   "execution_count": 5,
   "id": "apparent-raising",
   "metadata": {},
   "outputs": [],
   "source": [
    "# Nothing is outputted because num > 10 is FALSE\n",
    "num = 3\n",
    "if num > 10:\n",
    "    print(num)"
   ]
  },
  {
   "cell_type": "code",
   "execution_count": 7,
   "id": "different-representative",
   "metadata": {},
   "outputs": [
    {
     "name": "stdout",
     "output_type": "stream",
     "text": [
      "The remainder is zero\n"
     ]
    }
   ],
   "source": [
    "num = 3\n",
    "if num % 3 == 0:\n",
    "    print(\"The remainder is zero\")"
   ]
  },
  {
   "cell_type": "markdown",
   "id": "stupid-valuation",
   "metadata": {},
   "source": [
    "### Three keywords we can use are ```and or not```"
   ]
  },
  {
   "cell_type": "code",
   "execution_count": null,
   "id": "silver-example",
   "metadata": {},
   "outputs": [],
   "source": [
    "# The and keyword lets us check if two things if both the conditions are true\n",
    "if num > 0 and num  < 15:\n",
    "    print(num)"
   ]
  },
  {
   "cell_type": "code",
   "execution_count": 10,
   "id": "capable-digit",
   "metadata": {},
   "outputs": [
    {
     "name": "stdout",
     "output_type": "stream",
     "text": [
      "10\n"
     ]
    }
   ],
   "source": [
    "# The or key word will let us test if one thing or the other is True\n",
    "if num > 0 or num  > 15:\n",
    "    print(num)"
   ]
  },
  {
   "cell_type": "code",
   "execution_count": null,
   "id": "cardiac-dealer",
   "metadata": {},
   "outputs": [],
   "source": [
    "# or will only evaluate to False if both are False\n",
    "if False or False:\n",
    "    print('Nothing will print out')"
   ]
  },
  {
   "cell_type": "code",
   "execution_count": 11,
   "id": "guided-helmet",
   "metadata": {},
   "outputs": [
    {
     "data": {
      "text/plain": [
       "False"
      ]
     },
     "execution_count": 11,
     "metadata": {},
     "output_type": "execute_result"
    }
   ],
   "source": [
    "# not \n",
    "num = 10\n",
    "not num < 20"
   ]
  },
  {
   "cell_type": "markdown",
   "id": "friendly-scott",
   "metadata": {
    "tags": []
   },
   "source": [
    "## Part 3 - Else and Elif statement\n",
    "* An else statement must be used after an if \n",
    "* There can be at only one else statement which Will only be executed if all the \"if\" and \"elif\" statements above it are False.\n",
    "* If we have multiple conditions we can use elif as many times as we want to, as long as the last part of the conditional is an else. Similar to the else, the elif statement is optional. However, unlike else, for which there can be at most one statement, there can be an arbitrary number of elif statements following an if."
   ]
  },
  {
   "cell_type": "code",
   "execution_count": 16,
   "id": "intense-stewart",
   "metadata": {},
   "outputs": [
    {
     "name": "stdout",
     "output_type": "stream",
     "text": [
      "Num is not greater than 3\n"
     ]
    }
   ],
   "source": [
    "num = 1\n",
    "if num > 3 :\n",
    "    print(\"Hi\")\n",
    "else: \n",
    "    print(\"Num is not greater than 3\")"
   ]
  },
  {
   "cell_type": "code",
   "execution_count": 17,
   "id": "herbal-appraisal",
   "metadata": {},
   "outputs": [
    {
     "name": "stdout",
     "output_type": "stream",
     "text": [
      "This is the one\n"
     ]
    }
   ],
   "source": [
    "# In this example we will not use else because the if statement evaluates to true 4 is greater than 3\n",
    "num = 4\n",
    "if num > 3 :\n",
    "    print(\"This is the one\")\n",
    "else: \n",
    "    print(\"We done need this one\")"
   ]
  },
  {
   "cell_type": "code",
   "execution_count": null,
   "id": "actual-review",
   "metadata": {},
   "outputs": [],
   "source": [
    "# In this example we use an elif and an else\n",
    "num = 21\n",
    "if num > 50:\n",
    "    print('num is larger than 50')\n",
    "elif num == 21:\n",
    "    print('num = 21')\n",
    "else:\n",
    "    print('Catchall condition')"
   ]
  },
  {
   "cell_type": "code",
   "execution_count": null,
   "id": "italian-barbados",
   "metadata": {},
   "outputs": [],
   "source": [
    "# In this next exampe we use an elif and an else\n",
    "my_num = 5\n",
    "if my_num % 2 == 0:\n",
    "    print(\"Your number is even\")\n",
    "elif my_num % 2 != 0:\n",
    "    print(\"Your number is odd\")\n",
    "else: \n",
    "    print(\"Are you sure your number is an integer?\")"
   ]
  },
  {
   "cell_type": "markdown",
   "id": "massive-burton",
   "metadata": {},
   "source": [
    "## Part 4 - Questions"
   ]
  },
  {
   "cell_type": "markdown",
   "id": "informal-latin",
   "metadata": {
    "tags": []
   },
   "source": [
    "### Add and answer for each question to the code box"
   ]
  },
  {
   "cell_type": "markdown",
   "id": "precious-frederick",
   "metadata": {},
   "source": [
    "Q4.1 - Have a look at the example if statement - can you use this as the basis for an if statement that prints - ```water is boiling``` if the temperature is above 100 degrees\n",
    "```\n",
    "height = 200  # example if statement\n",
    "if height > 180:\n",
    "    print (\"You are tall\")\n",
    "```"
   ]
  },
  {
   "cell_type": "code",
   "execution_count": 9,
   "id": "apparent-drilling",
   "metadata": {},
   "outputs": [],
   "source": [
    "# your code here for Q4.1\n"
   ]
  },
  {
   "cell_type": "markdown",
   "id": "suffering-congo",
   "metadata": {},
   "source": [
    "Q4.2 - Create an if else statement that checks if a number is more than 100, if it is more than 100 it print out - ```this is more than 100``` if it is less than 100 print ```this is less than 100```?"
   ]
  },
  {
   "cell_type": "code",
   "execution_count": null,
   "id": "progressive-variance",
   "metadata": {},
   "outputs": [],
   "source": [
    "# your code here for Q4.2\n"
   ]
  },
  {
   "cell_type": "markdown",
   "id": "accredited-library",
   "metadata": {},
   "source": [
    "Q4.3 - Create an if else statement that checks if a word is more than 5 characters, if it is, print ```this is more than 5 letters``` \n",
    "if it is not print out how many letters it is adapt the ```len(length)``` example to get started?"
   ]
  },
  {
   "cell_type": "code",
   "execution_count": null,
   "id": "occupational-classics",
   "metadata": {},
   "outputs": [],
   "source": [
    "# your code here for Q4.3, use the sample word variable provided\n",
    "word = \"hello there\"\n",
    "print (len(word))\n"
   ]
  },
  {
   "cell_type": "markdown",
   "id": "eastern-formula",
   "metadata": {},
   "source": [
    "Q4.4 - Create an if else elif statement to check if the type of a variable is int, elif check if the type is a float, and then else print out ```sorry this is not int int or float``` use the variables provided for testing and make use of the `type()` function?"
   ]
  },
  {
   "cell_type": "code",
   "execution_count": null,
   "id": "fantastic-dispatch",
   "metadata": {},
   "outputs": [],
   "source": [
    "# your code here for Q4.4, use the example variables for testing\n",
    "my_string = \"hello\"\n",
    "my_float = 1.2\n",
    "my_int = 1\n",
    "print(type(my_string))\n"
   ]
  },
  {
   "cell_type": "markdown",
   "id": "062c3522-1af5-4906-be7e-6cab1e3ca904",
   "metadata": {},
   "source": [
    "Q4.5 - Create a short program that asks the user to enter their name, the program should then reply and say, `hello NAME, your name has X letters` where NAME is the name entered by the user and X is the number of letters?"
   ]
  },
  {
   "cell_type": "code",
   "execution_count": null,
   "id": "06f374a5-900a-473d-bea9-7577480c2efc",
   "metadata": {},
   "outputs": [],
   "source": [
    "# your code here for Q4.5\n",
    " "
   ]
  },
  {
   "cell_type": "markdown",
   "id": "dd76457b-7c88-4edf-9ec9-feb0229d80b0",
   "metadata": {},
   "source": [
    "Q4.6 Create a program that asks the user to enter a number, the program should return a new value of the number entered plus 20%?"
   ]
  },
  {
   "cell_type": "code",
   "execution_count": null,
   "id": "0278b302-643c-42a6-b3cc-2931ab2631ab",
   "metadata": {},
   "outputs": [],
   "source": [
    "# your code here for Q4.6\n"
   ]
  },
  {
   "cell_type": "markdown",
   "id": "1b03ecef-b5cb-43ad-aeea-4438c770744b",
   "metadata": {},
   "source": [
    "Q4.7 Consider a triangle that has even sides with a length of 8, write a program that will calculate the area of the triangle?"
   ]
  },
  {
   "cell_type": "code",
   "execution_count": null,
   "id": "f71e4879-9f44-4450-9537-9d0356518b8b",
   "metadata": {},
   "outputs": [],
   "source": [
    "triangle_side = 8\n",
    "# your code here for Q4.7\n"
   ]
  }
 ],
 "metadata": {
  "kernelspec": {
   "display_name": "Python 3 (ipykernel)",
   "language": "python",
   "name": "python3"
  },
  "language_info": {
   "codemirror_mode": {
    "name": "ipython",
    "version": 3
   },
   "file_extension": ".py",
   "mimetype": "text/x-python",
   "name": "python",
   "nbconvert_exporter": "python",
   "pygments_lexer": "ipython3",
   "version": "3.9.2"
  },
  "toc-autonumbering": false,
  "toc-showcode": false,
  "toc-showmarkdowntxt": false
 },
 "nbformat": 4,
 "nbformat_minor": 5
}
